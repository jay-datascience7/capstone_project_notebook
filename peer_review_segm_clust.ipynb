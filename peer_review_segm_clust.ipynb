{
    "nbformat_minor": 1, 
    "cells": [
        {
            "execution_count": 179, 
            "cell_type": "code", 
            "metadata": {}, 
            "outputs": [
                {
                    "output_type": "stream", 
                    "name": "stdout", 
                    "text": "Libraries imported!\n"
                }
            ], 
            "source": "import numpy as np \n\nimport pandas as pd \npd.set_option('display.max_columns', None)\npd.set_option('display.max_rows', None)\npd.set_option('display.max_colwidth', -1)\n\nimport json\n\n#!conda install -c conda-forge geopy --yes \nfrom geopy.geocoders import Nominatim # convert an address into latitude and longitude values\n\nimport requests # library to handle requests\nfrom pandas.io.json import json_normalize # tranform JSON file into a pandas dataframe\n\nfrom bs4 import BeautifulSoup # library to parse HTML and XML documents\n\nprint('Libraries imported!')"
        }, 
        {
            "execution_count": 149, 
            "cell_type": "code", 
            "metadata": {}, 
            "outputs": [], 
            "source": "wiki_url = \"https://en.wikipedia.org/wiki/List_of_postal_codes_of_Canada:_M\"\nwiki_response = requests.get(wiki_url).text"
        }, 
        {
            "source": "## Load and Explore", 
            "cell_type": "markdown", 
            "metadata": {}
        }, 
        {
            "execution_count": 158, 
            "cell_type": "code", 
            "metadata": {}, 
            "outputs": [], 
            "source": "soup = BeautifulSoup(wiki_response, 'lxml')\n# To keep the code compact we comment out the soup.prettify() result\n#print(soup.prettify())"
        }, 
        {
            "execution_count": 177, 
            "cell_type": "code", 
            "metadata": {}, 
            "outputs": [
                {
                    "execution_count": 177, 
                    "metadata": {}, 
                    "data": {
                        "text/html": "<div>\n<style scoped>\n    .dataframe tbody tr th:only-of-type {\n        vertical-align: middle;\n    }\n\n    .dataframe tbody tr th {\n        vertical-align: top;\n    }\n\n    .dataframe thead th {\n        text-align: right;\n    }\n</style>\n<table border=\"1\" class=\"dataframe\">\n  <thead>\n    <tr style=\"text-align: right;\">\n      <th></th>\n      <th>0</th>\n      <th>1</th>\n      <th>2</th>\n    </tr>\n  </thead>\n  <tbody>\n    <tr>\n      <th>0</th>\n      <td>Postcode</td>\n      <td>Borough</td>\n      <td>Neighbourhood</td>\n    </tr>\n    <tr>\n      <th>1</th>\n      <td>M1A</td>\n      <td>Not assigned</td>\n      <td>Not assigned</td>\n    </tr>\n    <tr>\n      <th>2</th>\n      <td>M2A</td>\n      <td>Not assigned</td>\n      <td>Not assigned</td>\n    </tr>\n    <tr>\n      <th>3</th>\n      <td>M3A</td>\n      <td>North York</td>\n      <td>Parkwoods</td>\n    </tr>\n    <tr>\n      <th>4</th>\n      <td>M4A</td>\n      <td>North York</td>\n      <td>Victoria Village</td>\n    </tr>\n  </tbody>\n</table>\n</div>", 
                        "text/plain": "          0             1                 2\n0  Postcode  Borough       Neighbourhood   \n1  M1A       Not assigned  Not assigned    \n2  M2A       Not assigned  Not assigned    \n3  M3A       North York    Parkwoods       \n4  M4A       North York    Victoria Village"
                    }, 
                    "output_type": "execute_result"
                }
            ], 
            "source": "table = soup.find_all('table')[0] \nneighborhoods = pd.read_html(str(table))[0]\nneighborhoods.head()\n"
        }, 
        {
            "execution_count": 178, 
            "cell_type": "code", 
            "metadata": {}, 
            "outputs": [
                {
                    "output_type": "stream", 
                    "name": "stdout", 
                    "text": "Not assigned        77\nEtobicoke           45\nNorth York          38\nDowntown Toronto    37\nScarborough         37\nCentral Toronto     17\nWest Toronto        13\nYork                9 \nEast Toronto        7 \nEast York           6 \nQueen's Park        1 \nBorough             1 \nMississauga         1 \nName: 1, dtype: int64\n"
                }
            ], 
            "source": "print(neighborhoods[1].value_counts())"
        }, 
        {
            "source": "## Remove rows where Borough and Neighborhood columns have 'Not assigned' values", 
            "cell_type": "markdown", 
            "metadata": {}
        }, 
        {
            "execution_count": 167, 
            "cell_type": "code", 
            "metadata": {}, 
            "outputs": [
                {
                    "execution_count": 167, 
                    "metadata": {}, 
                    "data": {
                        "text/html": "<div>\n<style scoped>\n    .dataframe tbody tr th:only-of-type {\n        vertical-align: middle;\n    }\n\n    .dataframe tbody tr th {\n        vertical-align: top;\n    }\n\n    .dataframe thead th {\n        text-align: right;\n    }\n</style>\n<table border=\"1\" class=\"dataframe\">\n  <thead>\n    <tr style=\"text-align: right;\">\n      <th></th>\n      <th>0</th>\n      <th>1</th>\n      <th>2</th>\n    </tr>\n  </thead>\n  <tbody>\n    <tr>\n      <th>0</th>\n      <td>Postcode</td>\n      <td>Borough</td>\n      <td>Neighbourhood</td>\n    </tr>\n    <tr>\n      <th>1</th>\n      <td>M3A</td>\n      <td>North York</td>\n      <td>Parkwoods</td>\n    </tr>\n    <tr>\n      <th>2</th>\n      <td>M4A</td>\n      <td>North York</td>\n      <td>Victoria Village</td>\n    </tr>\n    <tr>\n      <th>3</th>\n      <td>M5A</td>\n      <td>Downtown Toronto</td>\n      <td>Harbourfront</td>\n    </tr>\n    <tr>\n      <th>4</th>\n      <td>M5A</td>\n      <td>Downtown Toronto</td>\n      <td>Regent Park</td>\n    </tr>\n  </tbody>\n</table>\n</div>", 
                        "text/plain": "          0                 1                 2\n0  Postcode  Borough           Neighbourhood   \n1  M3A       North York        Parkwoods       \n2  M4A       North York        Victoria Village\n3  M5A       Downtown Toronto  Harbourfront    \n4  M5A       Downtown Toronto  Regent Park     "
                    }, 
                    "output_type": "execute_result"
                }
            ], 
            "source": "neighborhoods = neighborhoods[neighborhoods[1]!='Not assigned']\n\n# Reset the index\nneighborhoods.reset_index(drop=True, inplace=True)\nneighborhoods.head()"
        }, 
        {
            "source": "## Combine rows where more than one neighborhood exists in one postal code area", 
            "cell_type": "markdown", 
            "metadata": {}
        }, 
        {
            "execution_count": 170, 
            "cell_type": "code", 
            "metadata": {}, 
            "outputs": [
                {
                    "execution_count": 170, 
                    "metadata": {}, 
                    "data": {
                        "text/html": "<div>\n<style scoped>\n    .dataframe tbody tr th:only-of-type {\n        vertical-align: middle;\n    }\n\n    .dataframe tbody tr th {\n        vertical-align: top;\n    }\n\n    .dataframe thead th {\n        text-align: right;\n    }\n</style>\n<table border=\"1\" class=\"dataframe\">\n  <thead>\n    <tr style=\"text-align: right;\">\n      <th></th>\n      <th>0</th>\n      <th>1</th>\n      <th>2</th>\n    </tr>\n  </thead>\n  <tbody>\n    <tr>\n      <th>0</th>\n      <td>M1B</td>\n      <td>Scarborough</td>\n      <td>Rouge,Malvern</td>\n    </tr>\n    <tr>\n      <th>1</th>\n      <td>M1C</td>\n      <td>Scarborough</td>\n      <td>Highland Creek,Rouge Hill,Port Union</td>\n    </tr>\n    <tr>\n      <th>2</th>\n      <td>M1E</td>\n      <td>Scarborough</td>\n      <td>Guildwood,Morningside,West Hill</td>\n    </tr>\n    <tr>\n      <th>3</th>\n      <td>M1G</td>\n      <td>Scarborough</td>\n      <td>Woburn</td>\n    </tr>\n    <tr>\n      <th>4</th>\n      <td>M1H</td>\n      <td>Scarborough</td>\n      <td>Cedarbrae</td>\n    </tr>\n    <tr>\n      <th>5</th>\n      <td>M1J</td>\n      <td>Scarborough</td>\n      <td>Scarborough Village</td>\n    </tr>\n    <tr>\n      <th>6</th>\n      <td>M1K</td>\n      <td>Scarborough</td>\n      <td>East Birchmount Park,Ionview,Kennedy Park</td>\n    </tr>\n    <tr>\n      <th>7</th>\n      <td>M1L</td>\n      <td>Scarborough</td>\n      <td>Clairlea,Golden Mile,Oakridge</td>\n    </tr>\n    <tr>\n      <th>8</th>\n      <td>M1M</td>\n      <td>Scarborough</td>\n      <td>Cliffcrest,Cliffside,Scarborough Village West</td>\n    </tr>\n    <tr>\n      <th>9</th>\n      <td>M1N</td>\n      <td>Scarborough</td>\n      <td>Birch Cliff,Cliffside West</td>\n    </tr>\n    <tr>\n      <th>10</th>\n      <td>M1P</td>\n      <td>Scarborough</td>\n      <td>Dorset Park,Scarborough Town Centre,Wexford Heights</td>\n    </tr>\n    <tr>\n      <th>11</th>\n      <td>M1R</td>\n      <td>Scarborough</td>\n      <td>Maryvale,Wexford</td>\n    </tr>\n  </tbody>\n</table>\n</div>", 
                        "text/plain": "      0            1                                                    2\n0   M1B  Scarborough  Rouge,Malvern                                      \n1   M1C  Scarborough  Highland Creek,Rouge Hill,Port Union               \n2   M1E  Scarborough  Guildwood,Morningside,West Hill                    \n3   M1G  Scarborough  Woburn                                             \n4   M1H  Scarborough  Cedarbrae                                          \n5   M1J  Scarborough  Scarborough Village                                \n6   M1K  Scarborough  East Birchmount Park,Ionview,Kennedy Park          \n7   M1L  Scarborough  Clairlea,Golden Mile,Oakridge                      \n8   M1M  Scarborough  Cliffcrest,Cliffside,Scarborough Village West      \n9   M1N  Scarborough  Birch Cliff,Cliffside West                         \n10  M1P  Scarborough  Dorset Park,Scarborough Town Centre,Wexford Heights\n11  M1R  Scarborough  Maryvale,Wexford                                   "
                    }, 
                    "output_type": "execute_result"
                }
            ], 
            "source": "# Group dataframe and combine rows where more than one neighborhood exists into one comma separated row.\nneighborhoods = neighborhoods.groupby([0, 1])[2].apply(lambda x: ','.join(x)).reset_index()\nneighborhoods.head(12)"
        }, 
        {
            "source": "## Rows where Neighborhood column has 'Not assigned' value and replace it with corresponding Borough value.\u00b6", 
            "cell_type": "markdown", 
            "metadata": {}
        }, 
        {
            "execution_count": 171, 
            "cell_type": "code", 
            "metadata": {}, 
            "outputs": [
                {
                    "output_type": "stream", 
                    "name": "stdout", 
                    "text": "      0             1                                                  2\n83  M6R  West Toronto  Parkdale,Roncesvalles                            \n84  M6S  West Toronto  Runnymede,Swansea                                \n85  M7A  Queen's Park  Queen's Park                                     \n86  M7R  Mississauga   Canada Post Gateway Processing Centre            \n87  M7Y  East Toronto  Business Reply Mail Processing Centre 969 Eastern\n"
                }
            ], 
            "source": "borough_data = neighborhoods[1]\nneighborhoods_data = neighborhoods[2]\n\n# Loop through the data\nfor ind, (borough_address, neighborhoods_address) in enumerate(zip(borough_data, neighborhoods_data)):\n    if neighborhoods_address.strip() == \"Not assigned\":\n        neighborhoods_data[ind] = borough_data[ind]\n\n# Check that borough named 'Queen's Park' has the same named neighbourhood\nprint(pd.DataFrame(neighborhoods.iloc[83:88,]))"
        }, 
        {
            "execution_count": 172, 
            "cell_type": "code", 
            "metadata": {}, 
            "outputs": [
                {
                    "output_type": "stream", 
                    "name": "stdout", 
                    "text": "(104, 3)\n"
                }
            ], 
            "source": "print(neighborhoods.shape)"
        }, 
        {
            "execution_count": null, 
            "cell_type": "code", 
            "metadata": {}, 
            "outputs": [], 
            "source": ""
        }
    ], 
    "metadata": {
        "kernelspec": {
            "display_name": "Python 3.5", 
            "name": "python3", 
            "language": "python"
        }, 
        "language_info": {
            "mimetype": "text/x-python", 
            "nbconvert_exporter": "python", 
            "version": "3.5.5", 
            "name": "python", 
            "file_extension": ".py", 
            "pygments_lexer": "ipython3", 
            "codemirror_mode": {
                "version": 3, 
                "name": "ipython"
            }
        }
    }, 
    "nbformat": 4
}