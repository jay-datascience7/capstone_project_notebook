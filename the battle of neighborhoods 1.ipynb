{
    "nbformat_minor": 1, 
    "cells": [
        {
            "source": "## Prediction of Graduates admission into Masters Degree Programs", 
            "cell_type": "markdown", 
            "metadata": {
                "collapsed": true
            }
        }, 
        {
            "source": "## The business problem\nStudents have different reasons for studying a Masters. But most do so in the hope that postgraduate study will improve their career prospects.\n\nYou might have a specific job in mind \u2013 such as an academic role, for which a Masters degree is often the next step. Others return to postgraduate study to boost their career progress or switch career paths.\n\nOf course, employability isn\u2019t the only reason to study a postgraduate degree. Many students enjoy the chance to pursue their undergraduate subject at a more advanced level. There\u2019s also nothing to say you can\u2019t follow a subject you love and enhance your job prospects.\nSo it is only informative to know or to have an idea of  one's chances of admission into Masters degree Programs based on one's academic records and application as a whole. ", 
            "cell_type": "markdown", 
            "metadata": {}
        }, 
        {
            "execution_count": null, 
            "cell_type": "code", 
            "metadata": {}, 
            "outputs": [], 
            "source": ""
        }
    ], 
    "metadata": {
        "kernelspec": {
            "display_name": "Python 3.5", 
            "name": "python3", 
            "language": "python"
        }, 
        "language_info": {
            "mimetype": "text/x-python", 
            "nbconvert_exporter": "python", 
            "version": "3.5.5", 
            "name": "python", 
            "file_extension": ".py", 
            "pygments_lexer": "ipython3", 
            "codemirror_mode": {
                "version": 3, 
                "name": "ipython"
            }
        }
    }, 
    "nbformat": 4
}